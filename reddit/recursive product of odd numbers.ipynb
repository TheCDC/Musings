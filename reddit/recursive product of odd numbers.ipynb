{
 "cells": [
  {
   "cell_type": "code",
   "execution_count": 22,
   "id": "rolled-annual",
   "metadata": {},
   "outputs": [
    {
     "name": "stdout",
     "output_type": "stream",
     "text": [
      "[2, 3] 0 0 False\n",
      "[2, 3] 10 1 False\n",
      "[2, 3] 21 2 True\n",
      "3\n"
     ]
    }
   ],
   "source": [
    "#https://www.reddit.com/r/learncsharp/comments/kzttjv/c_method_that_calculates_product_of_odd_numbers/\n",
    "def outer(nums, index=0):\n",
    "    \n",
    "    decoded_index = index //10\n",
    "    found_any = (index%10) > 0\n",
    "    print(nums, index,decoded_index,found_any)\n",
    "    if len(nums) == decoded_index:\n",
    "        return 1\n",
    "    num = nums[decoded_index]\n",
    "    isodd = num %2 == 1\n",
    "    encoded_index = (decoded_index+1)*10 + (found_any or isodd)\n",
    "    if isodd:\n",
    "        return num*outer(nums,encoded_index)\n",
    "    return outer(nums,encoded_index)\n",
    "print(outer([2,3]))\n"
   ]
  },
  {
   "cell_type": "code",
   "execution_count": null,
   "id": "pharmaceutical-pioneer",
   "metadata": {},
   "outputs": [],
   "source": []
  }
 ],
 "metadata": {
  "kernelspec": {
   "display_name": "Python 3",
   "language": "python",
   "name": "python3"
  },
  "language_info": {
   "codemirror_mode": {
    "name": "ipython",
    "version": 3
   },
   "file_extension": ".py",
   "mimetype": "text/x-python",
   "name": "python",
   "nbconvert_exporter": "python",
   "pygments_lexer": "ipython3",
   "version": "3.9.1"
  }
 },
 "nbformat": 4,
 "nbformat_minor": 5
}
